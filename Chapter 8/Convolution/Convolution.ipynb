{
 "cells": [
  {
   "cell_type": "markdown",
   "id": "fatty-allah",
   "metadata": {},
   "source": [
    "# Convolution Demo"
   ]
  },
  {
   "cell_type": "code",
   "execution_count": 2,
   "id": "juvenile-mortgage",
   "metadata": {},
   "outputs": [
    {
     "data": {
      "application/vnd.jupyter.widget-view+json": {
       "model_id": "8b14849b220445f7a51a21a7b4bd2146",
       "version_major": 2,
       "version_minor": 0
      },
      "text/plain": [
       "VBox(children=(Output(layout=Layout(height='300px', width='1000px')), Output(layout=Layout(height='600px', wid…"
      ]
     },
     "metadata": {},
     "output_type": "display_data"
    }
   ],
   "source": [
    "from Convolution_utils import *\n",
    "%matplotlib widget\n",
    "\n",
    "plt.close('all')\n",
    "conv_demo = Convolution_demo(n=10, a_h=1.3, a_g=1.1, delay=2000)"
   ]
  },
  {
   "cell_type": "code",
   "execution_count": null,
   "id": "6ee67561",
   "metadata": {},
   "outputs": [],
   "source": []
  }
 ],
 "metadata": {
  "kernelspec": {
   "display_name": "Python 3",
   "language": "python",
   "name": "python3"
  },
  "language_info": {
   "codemirror_mode": {
    "name": "ipython",
    "version": 3
   },
   "file_extension": ".py",
   "mimetype": "text/x-python",
   "name": "python",
   "nbconvert_exporter": "python",
   "pygments_lexer": "ipython3",
   "version": "3.8.8"
  }
 },
 "nbformat": 4,
 "nbformat_minor": 5
}
