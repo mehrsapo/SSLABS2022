{
 "cells": [
  {
   "cell_type": "markdown",
   "metadata": {},
   "source": [
    "# Temporal aliasing of DFT\n",
    "\n",
    "The N-periodization of the signal $f[n]$ is defined as: $f_N[n]=\\sum_{k\\in\\mathbb Z} f[n-kN]$\n",
    "\n",
    "The DFT of $f_N[n]$ is computed as:\n",
    "\n",
    "$F_N[m]=\\sum_{n=0}^{N-1} f_N[n]\\exp(-2j\\pi\\frac{nm}{N})$"
   ]
  },
  {
   "cell_type": "code",
   "execution_count": 1,
   "metadata": {
    "scrolled": false
   },
   "outputs": [
    {
     "data": {
      "application/vnd.jupyter.widget-view+json": {
       "model_id": "5036faf29b604083bd198f58fae84893",
       "version_major": 2,
       "version_minor": 0
      },
      "text/plain": [
       "VBox(children=(IntSlider(value=21, description='Periodization constant (N)', layout=Layout(width='400px'), max…"
      ]
     },
     "metadata": {},
     "output_type": "display_data"
    }
   ],
   "source": [
    "from Temporal_aliasing_of_DFT_utils import *\n",
    "%matplotlib widget\n",
    "plt.close(\"all\")\n",
    "demo = DFT_temporal_aliasing()"
   ]
  },
  {
   "cell_type": "code",
   "execution_count": null,
   "metadata": {},
   "outputs": [],
   "source": []
  }
 ],
 "metadata": {
  "kernelspec": {
   "display_name": "Python 3",
   "language": "python",
   "name": "python3"
  },
  "language_info": {
   "codemirror_mode": {
    "name": "ipython",
    "version": 3
   },
   "file_extension": ".py",
   "mimetype": "text/x-python",
   "name": "python",
   "nbconvert_exporter": "python",
   "pygments_lexer": "ipython3",
   "version": "3.8.8"
  }
 },
 "nbformat": 4,
 "nbformat_minor": 4
}
